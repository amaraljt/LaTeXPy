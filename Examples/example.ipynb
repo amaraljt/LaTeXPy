{
  "cells": [
    {
      "cell_type": "code",
      "execution_count": 2,
      "metadata": {
        "colab": {
          "base_uri": "https://localhost:8080/",
          "height": 598
        },
        "id": "OVzRgPZocf6L",
        "outputId": "943ef9c1-b8ea-4879-8f0b-8caab1d82303"
      },
      "outputs": [
        {
          "name": "stderr",
          "output_type": "stream",
          "text": [
            "Cloning into 'LaTeXPy'...\n"
          ]
        },
        {
          "data": {
            "text/markdown": [
              "$\n",
              "\\renewcommand{\\And}{\\ \\text{and}\\ }\n",
              "\\newcommand{\\Or}{\\ \\text{or}\\ }\n",
              "\\newcommand{\\Not}{\\text{not}\\ }\n",
              "\\newcommand{\\m}{\\mathbf}\n",
              "\\newcommand{\\bb}{\\mathbb}\n",
              "\\newcommand{\\cc}{\\mathcal}\n",
              "\\newcommand{\\s}{\\text}\n",
              "\\newcommand{\\bsl}{\\backslash}\n",
              "\\newcommand{\\sm}{{\\sim}}\n",
              "\\newcommand{\\tup}[1]{(#1)}\n",
              "\\newcommand{\\Mod}{\\text{Mod}}\n",
              "\\newcommand{\\Con}{\\text{Con}}\n",
              "\\newcommand{\\Pre}{\\text{Pre}}\n",
              "$"
            ],
            "text/plain": [
              "<IPython.core.display.Markdown object>"
            ]
          },
          "metadata": {},
          "output_type": "display_data"
        }
      ],
      "source": [
        "!rm -rf LaTeXPy #remove any previous version\n",
        "!git clone https://github.com/amaraljt/LaTeXPy.git\n",
        "execfile(\"LaTeXPy/LaTeXPy.py\")"
      ]
    },
    {
      "cell_type": "code",
      "execution_count": 3,
      "metadata": {
        "colab": {
          "base_uri": "https://localhost:8080/",
          "height": 344
        },
        "id": "ji06jJYnci2p",
        "outputId": "7664a290-419a-49c9-b7e7-4988e9527d8c"
      },
      "outputs": [
        {
          "name": "stdout",
          "output_type": "stream",
          "text": [
            "Abstract syntax tree: (\"?\",(\"\\arcsin\",\"1\"))\n",
            "Expression: asin(1)?\n",
            "Value: pi/2\n"
          ]
        },
        {
          "data": {
            "text/markdown": [
              "\n",
              "$\\color{green}\\arcsin(1)\\color{blue} = pi/2$\n"
            ],
            "text/plain": [
              "<IPython.core.display.Markdown object>"
            ]
          },
          "metadata": {},
          "output_type": "display_data"
        }
      ],
      "source": [
        "# Adding a '?' before the last '$' will attempt to solve the problem\n",
        "# Adding a 1 argument at the end shows the parser in action\n",
        "l(r\"\"\"\n",
        "$\\arcsin(1)?$\n",
        "\"\"\", 1)"
      ]
    },
    {
      "cell_type": "code",
      "execution_count": 4,
      "metadata": {
        "colab": {
          "base_uri": "https://localhost:8080/",
          "height": 344
        },
        "id": "qj2DoGuovTXk",
        "outputId": "f6b279f1-3af0-4987-c829-0672b03e5412"
      },
      "outputs": [
        {
          "name": "stdout",
          "output_type": "stream",
          "text": [
            "Abstract syntax tree: (\"?\",(\"\\cos\",\"0\"))\n",
            "Expression: cos(0)?\n",
            "Value: 1\n"
          ]
        },
        {
          "data": {
            "text/markdown": [
              "\n",
              "$\\color{green}\\cos(0)\\color{blue} = 1$\n"
            ],
            "text/plain": [
              "<IPython.core.display.Markdown object>"
            ]
          },
          "metadata": {},
          "output_type": "display_data"
        }
      ],
      "source": [
        "l(r\"\"\"\n",
        "$\\cos(0)?$\n",
        "\"\"\",1)"
      ]
    },
    {
      "cell_type": "code",
      "execution_count": 5,
      "metadata": {
        "colab": {
          "base_uri": "https://localhost:8080/",
          "height": 344
        },
        "id": "GCyyVZLvNk6c",
        "outputId": "ac4456de-fad6-4a79-fa5b-7bd17de436f1"
      },
      "outputs": [
        {
          "name": "stdout",
          "output_type": "stream",
          "text": [
            "Abstract syntax tree: (\"?\",(\"\\ln\",\"1\"))\n",
            "Expression: math.log(1)?\n",
            "Value: 0.0\n"
          ]
        },
        {
          "data": {
            "text/markdown": [
              "\n",
              "$\\color{green}\\ln{1}\\color{blue} = 0.0$\n"
            ],
            "text/plain": [
              "<IPython.core.display.Markdown object>"
            ]
          },
          "metadata": {},
          "output_type": "display_data"
        }
      ],
      "source": [
        "l(r\"\"\"\n",
        "$\\ln{1}?$\n",
        "\"\"\",1)"
      ]
    }
  ],
  "metadata": {
    "colab": {
      "authorship_tag": "ABX9TyMb1Odosfo3YNTWK3TVOVg7",
      "provenance": []
    },
    "kernelspec": {
      "display_name": "Python 3",
      "name": "python3"
    },
    "language_info": {
      "codemirror_mode": {
        "name": "ipython",
        "version": 3
      },
      "file_extension": ".py",
      "mimetype": "text/x-python",
      "name": "python",
      "nbconvert_exporter": "python",
      "pygments_lexer": "ipython3",
      "version": "3.10.11"
    }
  },
  "nbformat": 4,
  "nbformat_minor": 0
}
