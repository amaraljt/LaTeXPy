{
  "cells": [
    {
      "cell_type": "code",
      "execution_count": 1,
      "metadata": {
        "colab": {
          "base_uri": "https://localhost:8080/"
        },
        "id": "rkESJyB-9hcA",
        "outputId": "e2659b12-9d56-4fb6-dcc6-077b9a598a8d"
      },
      "outputs": [
        {
          "name": "stderr",
          "output_type": "stream",
          "text": [
            "'rm' is not recognized as an internal or external command,\n",
            "operable program or batch file.\n",
            "Cloning into 'LaTeXPy'...\n"
          ]
        }
      ],
      "source": [
        "!rm -rf LaTeXPy #remove any previous version\n",
        "!git clone https://github.com/amaraljt/LaTeXPy.git\n",
        "import sys; sys.path.append('/content/LaTeXPy'); import LaTeXPy as l"
      ]
    },
    {
      "cell_type": "code",
      "execution_count": 9,
      "metadata": {
        "colab": {
          "base_uri": "https://localhost:8080/",
          "height": 1000
        },
        "id": "duhtYZNC9iwO",
        "outputId": "5fecd46f-80b8-43a8-9b78-af8276d9a5ba"
      },
      "outputs": [
        {
          "ename": "TypeError",
          "evalue": "'module' object is not callable",
          "output_type": "error",
          "traceback": [
            "\u001b[1;31m---------------------------------------------------------------------------\u001b[0m",
            "\u001b[1;31mTypeError\u001b[0m                                 Traceback (most recent call last)",
            "Cell \u001b[1;32mIn[9], line 1\u001b[0m\n\u001b[1;32m----> 1\u001b[0m l(\u001b[39mr\u001b[39;49m\u001b[39m\"\"\"\u001b[39;49m\n\u001b[0;32m      2\u001b[0m \u001b[39m$\u001b[39;49m\u001b[39m\\\u001b[39;49m\u001b[39mcos(\u001b[39;49m\u001b[39m\\\u001b[39;49m\u001b[39mpi)?$\u001b[39;49m\n\u001b[0;32m      3\u001b[0m \u001b[39m\"\"\"\u001b[39;49m,\u001b[39m1\u001b[39;49m)\n",
            "\u001b[1;31mTypeError\u001b[0m: 'module' object is not callable"
          ]
        }
      ],
      "source": [
        "l(r\"\"\"\n",
        "$\\cos(\\pi)?$\n",
        "\"\"\",1)"
      ]
    },
    {
      "cell_type": "code",
      "execution_count": 2,
      "metadata": {
        "id": "EK5XlMKS94A3"
      },
      "outputs": [],
      "source": []
    }
  ],
  "metadata": {
    "colab": {
      "provenance": []
    },
    "kernelspec": {
      "display_name": "Python 3",
      "language": "python",
      "name": "python3"
    },
    "language_info": {
      "codemirror_mode": {
        "name": "ipython",
        "version": 3
      },
      "file_extension": ".py",
      "mimetype": "text/x-python",
      "name": "python",
      "nbconvert_exporter": "python",
      "pygments_lexer": "ipython3",
      "version": "3.10.6"
    },
    "vscode": {
      "interpreter": {
        "hash": "87df5ebd7bf1ec44c0de58e0e91343b2d141c24fc110d57260b0481859b87763"
      }
    }
  },
  "nbformat": 4,
  "nbformat_minor": 0
}
