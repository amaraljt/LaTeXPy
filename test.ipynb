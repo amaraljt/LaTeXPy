{
 "cells": [
  {
   "cell_type": "code",
   "execution_count": 19,
   "metadata": {},
   "outputs": [
    {
     "data": {
      "text/markdown": [
       "$\n",
       "\\renewcommand{\\And}{\\ \\text{and}\\ }\n",
       "\\renewcommand{\\Or}{\\ \\text{or}\\ }\n",
       "\\renewcommand{\\Not}{\\text{not}\\ }\n",
       "\\renewcommand{\\m}{\\mathbf}\n",
       "\\renewcommand{\\bb}{\\mathbb}\n",
       "\\renewcommand{\\cc}{\\mathcal}\n",
       "\\renewcommand{\\s}{\\text}\n",
       "\\renewcommand{\\bsl}{\\backslash}\n",
       "\\renewcommand{\\sm}{{\\sim}}\n",
       "\\renewcommand{\\tup}[1]{(#1)}\n",
       "\\renewcommand{\\Mod}{\\text{Mod}}\n",
       "\\renewcommand{\\Con}{\\text{Con}}\n",
       "\\renewcommand{\\Pre}{\\text{Pre}}\n",
       "$"
      ],
      "text/plain": [
       "<IPython.core.display.Markdown object>"
      ]
     },
     "metadata": {},
     "output_type": "display_data"
    }
   ],
   "source": [
    "# Python program to parse LaTeX formulas and produce Python/Prover9 expressions\n",
    "\n",
    "# by Peter Jipsen 2023-3-21 distributed under LGPL 3 or later.\n",
    "# Terms are read using Vaughn Pratt's top-down parsing algorithm.\n",
    "\n",
    "# List of symbols handled by the parser (at this point)\n",
    "# =====================================================\n",
    "# \\And \\approx \\backslash \\bb \\bigcap \\bigcup \\bot \\cap \\cc \\cdot  \n",
    "# \\circ \\Con \\cup \\equiv \\exists \\forall \\ge \\implies \\in \\le \\ln \\m \n",
    "# \\mathbb \\mathbf \\mathcal \\mid \\Mod \\models \\ne \\neg \\ngeq \\nleq \\Not \n",
    "# \\nvdash \\oplus \\Or \\Pre \\setminus \\sim \\subset \\subseteq \\supset \\supseteq \n",
    "# \\times \\to \\top \\vdash \\vee \\vert \\wedge + * / ^ _ ! = < > ( ) [ ] \\{ \\} | | $\n",
    "\n",
    "# Greek letters and most other LaTeX symbols can be used as variable names.\n",
    "# A LaTeX symbol named \\abc... is translated to the Python variable _abc...\n",
    "\n",
    "#!pip install provers\n",
    "#from provers import *\n",
    "import math, itertools, re, sys, subprocess\n",
    "subprocess.check_call([sys.executable, '-m', 'pip', 'install', 'latex2sympy2'])\n",
    "from sympy import *\n",
    "x, y, z, t = symbols('x y z t') # init_session()\n",
    "from latex2sympy2 import *\n",
    "from IPython.display import *\n",
    "\n",
    "# The macros below are used to simplify the input that needs to be typed.\n",
    "macros=r\"\"\"\n",
    "\\renewcommand{\\And}{\\ \\text{and}\\ }\n",
    "\\renewcommand{\\Or}{\\ \\text{or}\\ }\n",
    "\\renewcommand{\\Not}{\\text{not}\\ }\n",
    "\\renewcommand{\\m}{\\mathbf}\n",
    "\\renewcommand{\\bb}{\\mathbb}\n",
    "\\renewcommand{\\cc}{\\mathcal}\n",
    "\\renewcommand{\\s}{\\text}\n",
    "\\renewcommand{\\bsl}{\\backslash}\n",
    "\\renewcommand{\\sm}{{\\sim}}\n",
    "\\renewcommand{\\tup}[1]{(#1)}\n",
    "\\renewcommand{\\Mod}{\\text{Mod}}\n",
    "\\renewcommand{\\Con}{\\text{Con}}\n",
    "\\renewcommand{\\Pre}{\\text{Pre}}\n",
    "\"\"\"\n",
    "display(Markdown(\"$\"+macros+\"$\"))\n",
    "RunningInCOLAB = 'google.colab' in str(get_ipython())\n",
    "if not RunningInCOLAB: macros=\"\"\n",
    "\n",
    "p9options=[ # redeclare Prover9 syntax\n",
    "    \"redeclare(conjunction, and)\",\n",
    "    \"redeclare(disjunction, or)\",\n",
    "    \"redeclare(negation, not)\",\n",
    "    'redeclare(implication, \"==>\")',\n",
    "    'redeclare(backward_implication, \"<==\")',\n",
    "    'redeclare(equivalence, \"<=>\")',\n",
    "    'redeclare(equality, \"==\")']\n",
    "\n",
    "P9 = False\n",
    "\n",
    "def p9st(t):\n",
    "  global P9\n",
    "  P9=True;ps=str(t);P9=False\n",
    "  return ps\n",
    "\n",
    "def pr9(assume_list, goal_list, mace_seconds=2, prover_seconds=60, cardinality=None, params='', info=False):\n",
    "    global prover9\n",
    "    if type(cardinality) == int or cardinality == None:\n",
    "        return prover9(assume_list, goal_list, mace_seconds, prover_seconds, cardinality, params=params, info=info, options=p9options)\n",
    "    else:\n",
    "        algs = [[], [1]]+[[] for i in range(2, cardinality[0]+1)]\n",
    "        for i in range(2, cardinality[0]+1):\n",
    "            algs[i] = prover9(assume_list, goal_list, mace_seconds, prover_seconds, i, params=params, info=info, options=p9options)\n",
    "        print(\"Fine spectrum: \", [len(x) for x in algs[1:]])\n",
    "        return algs\n",
    "\n",
    "from IPython.display import *\n",
    "import math, itertools, re\n",
    "_pi = sympy.pi\n",
    "_e = math.e\n",
    "\n",
    "def is_postfix(t):\n",
    "    return hasattr(t,'leftd') and len(t.a)==1\n",
    "\n",
    "def w(t,i): # decide when to add parentheses during printing of terms\n",
    "    subt = t.a[i] if len(t.a)>i else \"index out of range\"\n",
    "    return str(subt) if subt.lbp < t.lbp or subt.a==[] or \\\n",
    "        (subt.sy==t.sy and subt.lbp==t.lbp) or \\\n",
    "        (not hasattr(subt,'leftd') or not hasattr(t,'leftd')) or \\\n",
    "        (is_postfix(subt) and is_postfix(t)) else \"(\"+str(subt)+\")\"\n",
    "\n",
    "def w2(t,i):\n",
    "  subt = t.a[i] if len(t.a)>i else \"index out of range\"\n",
    "  return str(subt) if subt.lbp < t.lbp or subt.a==[] \\\n",
    "        or (not hasattr(subt,'leftd') and subt.lbp==1200) \\\n",
    "        else \"(\"+str(subt)+\")\"\n",
    "\n",
    "def w3(t,i): # always add parentheses\n",
    "  subt = t.a[i] if len(t.a)>i else \"index out of range\"\n",
    "  return \"(\"+str(subt)+\")\"\n",
    "\n",
    "def letter(c): return 'a'<=c<='z' or 'A'<=c<='Z'\n",
    "def alpha_numeric(c): return 'a'<=c<='z' or 'A'<=c<='Z' or '0'<=c<='9'\n",
    "\n",
    "class symbol_base(object):\n",
    "    a = []\n",
    "    def __repr__(self): \n",
    "        if   len(self.a) == 0: return self.sy.replace(\"\\\\\",\"_\").replace(\"{\",\"\").replace(\"}\",\"\")\n",
    "        elif len(self.a) == 2:\n",
    "         return w(self,0)+\" \"+self.sy+\" \"+w(self,1)\n",
    "        else:\n",
    "         return self.sy+\"(\"+\",\".join([w(self,j) for j in range(len(self.a))])+\")\"\n",
    "\n",
    "def symbol(id, bp=1200): # identifier, binding power; LOWER binds stronger\n",
    "    if id in symbol_table:\n",
    "        s = symbol_table[id]    # look symbol up in table\n",
    "        s.lbp = min(bp, s.lbp)  # update left binding power\n",
    "    else:\n",
    "        class s(symbol_base):   # create class for this symbol\n",
    "            pass\n",
    "        s.sy = id\n",
    "        s.lbp = bp\n",
    "        s.nulld = lambda self: self\n",
    "        symbol_table[id] = s\n",
    "    return s\n",
    "\n",
    "def advance(id=None):\n",
    "    global token\n",
    "    if id and token.sy != id:\n",
    "        raise SyntaxError(\"Expected \"+id+\" got \"+token.sy)\n",
    "    token = next()\n",
    "\n",
    "def nulld(self): # null denotation\n",
    "    expr = expression()\n",
    "    advance(\")\")\n",
    "    return expr\n",
    "\n",
    "def nulldbr(self): # null denotation\n",
    "    expr = expression()\n",
    "    advance(\"}\")\n",
    "    return expr\n",
    "  \n",
    "#prefix2:\n",
    "  # \\frac d{dx}(\\sin x)\n",
    "  # (\"\\frac\", \"d\",\"dx\",(\"\\sin\",\"x\"))\n",
    "def prefix2(id, bp=0): # parse n-ary prefix operations\n",
    "  global token\n",
    "  def nulld(self): # null denotation\n",
    "    # global token\n",
    "    # if token.sy not in [\"(\",\"[\",\"{\"] and self.sy not in [\"\\\\forall\",\"\\\\exists\"]:\n",
    "        #print('token.sy',token.sy,'self.sy',self.sy)\n",
    "    self.a = [expression(bp), expression(bp)]\n",
    "    if self.a[0].sy==\"d\" and self.a[1].sy[0]==\"d\": \n",
    "      self.a.append(expression(bp))\n",
    "    return self\n",
    "  s = symbol(id, bp)\n",
    "  s.nulld = nulld\n",
    "  return s\n",
    "          \n",
    "\n",
    "def prefix(id, bp=0): # parse n-ary prefix operations\n",
    "    global token\n",
    "    def nulld(self): # null denotation\n",
    "        global token\n",
    "        if token.sy not in [\"(\",\"[\",\"{\"] and self.sy not in [\"\\\\forall\",\"\\\\exists\"]:\n",
    "            #print('token.sy',token.sy,'self.sy',self.sy)\n",
    "            self.a = [] if token.sy in [\",\",\")\",\"}\",\":\",\"=\",\"!=\"] else [expression(bp)]\n",
    "            if self.sy==\"|\": advance(\"|\")\n",
    "            return self\n",
    "        else:\n",
    "            closedelim = \")\" if token.sy==\"(\" else \"]\" if token.sy==\"[\" else \"}\"\n",
    "            token = next()\n",
    "            self.a = []\n",
    "            if token.sy != \")\":\n",
    "                while 1:\n",
    "                    self.a.append(expression())\n",
    "                    if token.sy != \",\":\n",
    "                        break\n",
    "                    advance(\",\")\n",
    "            advance(closedelim)\n",
    "            if closedelim==\"}\" and token.sy==\"(\": #make \\cmd{v}(...) same as \\cmd c(...)\n",
    "              prefix(self.a[0].sy)\n",
    "              token = next()\n",
    "              self.a[0].a = []\n",
    "              if token.sy != \")\":\n",
    "                while 1:\n",
    "                    self.a[0].a.append(expression())\n",
    "                    if token.sy != \",\":\n",
    "                        break\n",
    "                    advance(\",\")\n",
    "              advance(\")\")\n",
    "            return self\n",
    "    s = symbol(id, bp)\n",
    "    s.nulld = nulld\n",
    "    return s\n",
    "\n",
    "def infix(id, bp, right=False):\n",
    "    def leftd(self, left): # left denotation\n",
    "        self.a = [left]\n",
    "        self.a.append(expression(bp+(1 if right else 0)))\n",
    "        return self\n",
    "    s = symbol(id, bp)\n",
    "    s.leftd = leftd\n",
    "    return s\n",
    "\n",
    "def preorinfix(id, bp, right=True): # used for minus\n",
    "    def leftd(self, left): # left denotation\n",
    "        self.a = [left]\n",
    "        self.a.append(expression(bp+(1 if right else 0)))\n",
    "        return self\n",
    "    def nulld(self): # null denotation\n",
    "        global token\n",
    "        self.a = [expression(bp)]\n",
    "        return self\n",
    "    s = symbol(id, bp)\n",
    "    s.leftd = leftd\n",
    "    s.nulld = nulld\n",
    "    return s\n",
    "\n",
    "def plist(id, bp=0): #parse a parenthesized comma-separated list\n",
    "    global token\n",
    "    def nulld(self): # null denotation\n",
    "        global token\n",
    "        self.a = []\n",
    "        if token.sy not in [\"]\",\"\\\\}\"]:\n",
    "            while True:\n",
    "                self.a.append(expression())\n",
    "                if token.sy != \",\": break\n",
    "                advance(\",\")\n",
    "        advance()\n",
    "        return self\n",
    "    s = symbol(id, bp)\n",
    "    s.nulld = nulld\n",
    "    return s\n",
    "\n",
    "def postfix(id, bp):\n",
    "    def leftd(self,left): # left denotation\n",
    "        self.a = [left]\n",
    "        return self\n",
    "    s = symbol(id, bp)\n",
    "    s.leftd = leftd\n",
    "    return s\n",
    "\n",
    "symbol_table = {}\n",
    "\n",
    "# The parsing rules  below decode a string of tokens into an abstract syntax tree with methods .sy \n",
    "# for symbol (a string) and .a for arguments.\n",
    "\n",
    "def init_symbol_table():\n",
    "    global symbol_table\n",
    "    symbol_table = {}\n",
    "    symbol(\"(\").nulld = nulld\n",
    "    symbol(\")\")\n",
    "    symbol(\"{\").nulld = nulldbr\n",
    "    symbol(\"}\")\n",
    "    prefix(\"|\").__repr__ = lambda x: \"len(\"+str(x.a[0])+\")\" #interferes with p|q from Prover9\n",
    "    plist(\"[\").__repr__ = lambda x: \"[\"+\",\".join([strorval(y) for y in x.a])+\"]\"\n",
    "    plist(\"\\\\tup{\").__repr__ = lambda x: \"(\"+\",\".join([strorval(y) for y in x.a])+\")\"\n",
    "    plist(\"\\\\{\").__repr__ = lambda x: \"frozenset([\"+x.a[0].a[0].a[0].sy+\" for \"+str(x.a[0].a[0])+\\\n",
    "      \" if \"+str(x.a[0].a[1]).replace(\" = \",\" == \")+\"])\"\\\n",
    "      if len(x.a)==1 and x.a[0].sy==\"\\\\mid\" and x.a[0].a[0].sy==\"\\\\in\"\\\n",
    "      else \"frozenset([\"+str(x.a[0].a[0])+\" for \"+str(x.a[0].a[1].a[0])+\\\n",
    "      \" if \"+str(x.a[0].a[1].a[1]).replace(\" = \",\" == \")+\"])\"\\\n",
    "      if len(x.a)==1 and x.a[0].sy==\"\\\\mid\" and x.a[0].a[1].sy==\"\\\\And\" and x.a[0].a[1].a[0].sy==\"\\\\in\"\\\n",
    "      else \"frozenset([\"+str(x.a[0].a[0])+\" for \"+str(x.a[0].a[1])+\"])\"\\\n",
    "      if len(x.a)==1 and x.a[0].sy==\"\\\\mid\" and x.a[0].a[1].sy==\"\\\\in\"\\\n",
    "      else \"frozenset([\"+\",\".join([strorval(y) for y in x.a])+\"])\"\\\n",
    "      if len(x.a)<2 or x.a[1].sy!='\\\\dots' else \"frozenset(range(\"+str(x.a[0])+\",\"+str(x.a[2])+\"+1))\"\n",
    "    symbol(\"]\")\n",
    "    symbol(\"\\\\}\")\n",
    "    symbol(\",\")\n",
    "    postfix(\"!\",300).__repr__ =       lambda x: \"math.factorial(\"+str(x.a[0])+\")\"\n",
    "    postfix(\"f\",300).__repr__ =       lambda x: \"f\"+w3(x,0)\n",
    "    postfix(\"'\",300).__repr__ =       lambda x: str(x.a[0])+\"'\"\n",
    "    prefix(\"\\\\ln\",310).__repr__ =     lambda x: \"math.log(\"+str(x.a[0])+\")\"\n",
    "    prefix(\"\\\\sin\",310).__repr__ =    lambda x: \"sin(\"+str(x.a[0])+\")\"  # use math.sin if sympy is not loaded\n",
    "    infix(\":\", 450).__repr__ =        lambda x: str(x.a[0])+\": \"+w3(x,1) # for f:A\\to B\n",
    "    infix(\"^\", 300).__repr__ =        lambda x: \"converse(\"+str(x.a[0])+\")\"\\\n",
    "      if len(x.a)>1 and str(x.a[1].sy)=='\\\\smallsmile' else \"O(\"+str(x.a[0])+\")\"\\\n",
    "      if P9 and len(x.a)>0 and str(x.a[1])==\"-1\" else w2(x,0)+\"\\\\wedge \"+w2(x,1)\\\n",
    "      if P9 else w2(x,0)+\"**\"+w2(x,1)                                       # power\n",
    "    infix(\"_\", 300).__repr__ =        lambda x: str(x.a[0])+\"[\"+w(x,1)+\"]\"  # sub\n",
    "    infix(\";\", 303).__repr__ =        lambda x: \"relcomposition(\"+w(x,0)+\",\"+w(x,1)+\")\" # relation composition\n",
    "    infix(\"\\\\circ\", 303).__repr__ =   lambda x: \"relcomposition(\"+w(x,1)+\",\"+w(x,0)+\")\" # function composition\n",
    "    infix(\"*\", 311).__repr__ =        lambda x: w2(x,0)+\"\\\\cdot \"+w2(x,1)   # times\n",
    "    infix(\"\\\\cdot\", 311).__repr__ =   lambda x: w2(x,0)+\"*\"+w2(x,1)         # times\n",
    "    infix(\"/\", 312).__repr__ =        lambda x: w2(x,0)+\"/\"+w2(x,1)         # over\n",
    "    infix(\"+\", 313).__repr__ =        lambda x: w2(x,0)+\" + \"+w2(x,1)       # plus\n",
    "    preorinfix(\"-\",313).__repr__ =    lambda x: \"-\"+w(x,0) if len(x.a)==1 else str(x.a[0])+\" - \"+w(x,1) #negative or minus\n",
    "    symbol(\"\\\\top\").__repr__ =        lambda x: \"T\"\n",
    "    symbol(\"\\\\bot\").__repr__ =        lambda x: \"0\"\n",
    "    infix(\"\\\\times\", 322).__repr__ =  lambda x: \"frozenset(itertools.product(\"+w(x,0)+\",\"+w(x,1)+\"))\" #product\n",
    "    infix(\"\\\\cap\", 323).__repr__ =    lambda x: w(x,0)+\" & \"+w(x,1)         # intersection\n",
    "    infix(\"\\\\cup\", 324).__repr__ =    lambda x: w(x,0)+\" | \"+w(x,1)         # union\n",
    "    infix(\"\\\\setminus\", 325).__repr__=lambda x: w(x,0)+\" - \"+w(x,1)         # setminus\n",
    "    infix(\"\\\\oplus\", 326).__repr__ =  lambda x: w(x,0)+\" ^ \"+w(x,1)         # symmetric difference\n",
    "    prefix(\"\\\\bigcap\",350).__repr__ = lambda x: \"intersection(\"+str(x.a[0])+\")\" # intersection of a set of sets\n",
    "    prefix(\"\\\\bigcup\",350).__repr__ = lambda x: \"union(\"+str(x.a[0])+\")\"    # union of a set of sets\n",
    "    prefix(\"\\\\mathcal{P}\",350).__repr__=lambda x: \"powerset(\"+str(x.a[0])+\")\" #powerset of a set\n",
    "    prefix(\"\\\\cc{P}\",350).__repr__=   lambda x: \"powerset(\"+str(x.a[0])+\")\" # powerset of a set\n",
    "    prefix(\"\\\\mathbf\",350).__repr__ = lambda x: \"_mathbf\"+str(x.a[0].sy)    # algebra or structure or theory\n",
    "    prefix(\"\\\\m\",350).__repr__ =      lambda x: \"_m\"+str(x.a[0].sy)         # algebra or structure or theory\n",
    "    prefix(\"\\\\mathbb\",350).__repr__ = lambda x: \"_mathbb\"+str(x.a[0].sy)    # blackboard bold\n",
    "    prefix(\"\\\\bb\",350).__repr__ =     lambda x: \"_bb\"+str(x.a[0].sy)        # blackboard bold\n",
    "\n",
    "    ###### trig functions #####\n",
    "    prefix(\"\\\\sin\",310).__repr__ =    lambda x: \"sympy.sin(\"+str(x.a[0])+\")\"\n",
    "    prefix(\"\\\\cos\",310).__repr__ =    lambda x: \"sympy.cos(\"+str(x.a[0])+\")\"\n",
    "    prefix(\"\\\\tan\",310).__repr__ =    lambda x: \"sympy.tan(\"+str(x.a[0])+\")\"\n",
    "    prefix(\"\\\\arcsin\",310).__repr__ =    lambda x: \"sympy.asin(\"+str(x.a[0])+\")\"\n",
    "    prefix(\"\\\\arccos\",310).__repr__ =    lambda x: \"sympy.acos(\"+str(x.a[0])+\")\"\n",
    "    prefix(\"\\\\arctan\",310).__repr__ =    lambda x: \"sympy.atan(\"+str(x.a[0])+\")\"\n",
    "\n",
    "    # testing derivatives/integrations ( NOT WORKING )\n",
    "    # testing fractions using prefix2 ( how to differentiate between a fraction and derivative )\n",
    "    prefix2(\"\\\\frac\",310).__repr__ =  lambda x: \"latex(diff(\"+str(x.a[2])+\",\"+x.a[1].sy[1:]+\"))\" if x.a[0].sy==\"d\" and x.a[1].sy[0]==\"d\"\\\n",
    "      else \"sympy.simplify(\"+ str(x.a[0]) + \"/\" + str(x.a[1]) + \")\"\n",
    "      \n",
    "    ###### integrals functions #####\n",
    "    prefix(\"\\\\int\",310).__repr__ =    lambda x: \"sympy.integrate(\"+str(x.a[0])+\",\"+x.a[1].sy[1:]+\")\"\n",
    "    \n",
    "    ###### limit functions #####\n",
    "    # prefix(\"\\\\lim\",310).__repr__ =    lambda x: \"sympy.integrate(\"+str(x.a[0])+\",\"+x.a[1].sy[1:]+\")\"\n",
    "\n",
    "    infix(\"\\\\vert\", 365).__repr__ =   lambda x: w(x,1)+\"%\"+w(x,0)+\"==0\"     # divides\n",
    "    infix(\"\\\\in\", 370).__repr__ =     lambda x: w(x,0)+\" in \"+w(x,1)        # element of\n",
    "    infix(\"\\\\subseteq\", 370).__repr__=lambda x: w(x,0)+\" <= \"+w(x,1)        # subset of\n",
    "    infix(\"\\\\subset\", 370).__repr__ = lambda x: w(x,0)+\" < \"+w(x,1)         # proper subset of\n",
    "    infix(\"\\\\supseteq\", 370).__repr__=lambda x: w(x,1)+\" <= \"+w(x,0)        # supset of\n",
    "    infix(\"\\\\supset\", 370).__repr__ = lambda x: w(x,1)+\" < \"+w(x,0)         # proper subset of\n",
    "    infix(\"=\", 405).__repr__ =        lambda x: w(x,0)+\"==\"+w(x,1)          # assignment or identity\n",
    "    infix(\"==\", 405).__repr__ =       lambda x: w(x,0)+\" = \"+w(x,1)         # assignment or identity\n",
    "    infix(\"\\\\ne\", 405).__repr__ =     lambda x: w(x,0)+\" != \"+w(x,1)        # nonequality\n",
    "    infix(\"!=\", 405).__repr__ =       lambda x: w(x,0)+\"\\\\ne \"+w(x,1)       # nonequality\n",
    "    infix(\"\\\\le\", 405).__repr__ =     lambda x: w2(x,0)+\" <= \"+str(x.a[1])  # less or equal\n",
    "    infix(\"<=\", 405).__repr__ =       lambda x: w2(x,0)+\"\\\\le \"+str(x.a[1]) # less or equal in Python\n",
    "    infix(\"\\\\ge\", 405).__repr__ =     lambda x: w2(x,0)+\">=\"+str(x.a[1])    # greater or equal\n",
    "    infix(\"<\", 405).__repr__ =        lambda x: w2(x,0)+\" < \"+str(x.a[1])   # less than\n",
    "    infix(\">\", 405).__repr__ =        lambda x: w2(x,0)+\" > \"+str(x.a[1])   # greater than\n",
    "    infix(\"\\\\nleq\", 405).__repr__ =   lambda x: \"not(\"+w2(x,0)+\"<=\"+str(x.a[1])+\")\" # not less or equal\n",
    "    infix(\"\\\\ngeq\", 405).__repr__ =   lambda x: \"not(\"+w2(x,1)+\"<=\"+str(x.a[0])+\")\" # not greater or equal\n",
    "#    infix(\"\\\\approx\", 405).__repr__ = lambda x: w2(x,0)+\" Aprx \"+str(x.a[1]) # approximately\n",
    "#    infix(\"\\\\equiv\", 405).__repr__ =  lambda x: w2(x,0)+\" Eq \"+str(x.a[1])   # equivalence relation\n",
    "    prefix(\"\\\\neg\",450).__repr__=     lambda x: \"not \"+w(x,0)               # negation symbol\n",
    "    prefix(\"\\\\Not\",450).__repr__=     lambda x: \"not \"+w3(x,0)              # logical negation\n",
    "    prefix(\"\\\\forall\",450).__repr__ = lambda x: \"all(\"+str(x.a[-1]).replace(\" = \",\" == \")+\\\n",
    "            \"\".join(\" for \"+str(x) for x in x.a[:-1])+\")\"                   # universal quantifier\n",
    "    prefix(\"\\\\exists\",450).__repr__ = lambda x: \"any(\"+str(x.a[-1]).replace(\" = \",\" == \")+\\\n",
    "            \"\".join(\" for \"+str(x) for x in x.a[:-1])+\")\"                   # existential quantifier\n",
    "    infix(\"\\\\Or\", 503).__repr__=      lambda x: w(x,0)+(\" or \")+w(x,1)      # disjunction\n",
    "    infix(\"\\\\And\", 503).__repr__=     lambda x: w(x,0)+(\" and \")+w(x,1)     # conjunction\n",
    "    infix(\"\\\\implies\", 504).__repr__ =lambda x: \"not \"+w3(x,0)+\" or \"+w3(x,1) # implication\n",
    "    infix(\"\\\\iff\", 505).__repr__ =    lambda x: w3(x,0)+\" <=> \"+w3(x,1)     # if and only if\n",
    "    infix(\"\\\\mid\", 550).__repr__ =    lambda x: str(x.a[0])+\" mid \"+str(x.a[1]) # such that\n",
    "    prefix(\"primefactors\",310).__repr__ = lambda x: \"latex(primefactors(\"+str(x.a[0])+\"))\" # factor an integer\n",
    "    prefix(\"ls\",310).__repr__ =       lambda x: \"latex2latex(\"+str(x.a[0])+\")\" # use the latex2sympy2 parser and sympy to calculate\n",
    "    prefix(\"factor\",310).__repr__ =   lambda x: \"latex(factor(\"+str(x.a[0])+(\"\" if len(x.a)==1 else \",\"+str(x.a[1]))+\"))\" # factor a polynomial\n",
    "    prefix(\"solve\",310).__repr__ =    lambda x: \"latex(solve(\"+(str(x.a[0].a[0])+\"-(\"+str(x.a[0].a[1])+\")\" if x.a[0].sy==\"=\" else str(x.a[0]))+\\\n",
    "      (\"\" if len(x.a)==1 else \",\"+str(x.a[1]))+\"))\" # solve a (list of) equations\n",
    "    prefix(\"show\",310).__repr__ =     lambda x: \"show(\"+str(x.a[0])+(\")\" if len(x.a)==1 else \",\"+str(x.a[1])+\")\") # show poset or (semi)lattice\n",
    "    postfix(\"?\", 600).__repr__ =      lambda x: str(x.a[0])+\"?\"             # calculate value and show it\n",
    "    symbol(\"(end)\")\n",
    "##########################\n",
    "# syntax below is used only for Prover9\n",
    "    infix(\"or\", 503).__repr__=        lambda x: w(x,0)+r\"\\ \\text{or}\\ \"+w(x,1) # disjunction to LaTeX\n",
    "    infix(\"and\", 503).__repr__=       lambda x: w(x,0)+r\"\\ \\text{and}\\ \"+w(x,1) # conjunction to LaTeX\n",
    "    infix(\"==>\", 504).__repr__ =      lambda x: w2(x,0)+\"\\\\implies \"+w2(x,1) # implication\n",
    "    infix(\"<=>\", 505).__repr__ =      lambda x: w3(x,0)+\"\\\\iff \"+w3(x,1) # if and only if\n",
    "    infix(\"\\\\backslash\", 312).__repr__=lambda x: w(x,0)+\"\\ \"+w(x,1)      # under\n",
    "    infix(\"\\\\bsl\", 312).__repr__=     lambda x: w(x,0)+\"\\ \"+w(x,1)       # under\n",
    "    infix(\"\\\\wedge\", 314).__repr__ =  lambda x: w2(x,0)+\" ^ \"+w2(x,1)    # meet\n",
    "    infix(\"\\\\vee\", 314).__repr__ =    lambda x: w2(x,0)+\" v \"+w2(x,1)    # join\n",
    "    infix(\"v\", 314).__repr__ =        lambda x: w2(x,0)+\"\\\\vee \"+w2(x,1) # join\n",
    "    infix(\"\\\\to\", 316).__repr__ =     lambda x: w(x,0)+\" -> \"+w(x,1)\n",
    "    prefix(\"O\",310).__repr__ =        lambda x: \"{\"+str(x.a[0])+\"^{-1}}\" #P9 name for inverse\n",
    "    preorinfix(\"\\\\sim\",310).__repr__= lambda x: \"~\"+w(x,0)\\\n",
    "      if len(x.a)==1 else str(x.a[0])+\" ~ \"+w(x,1) #left negative or equivalence relation\n",
    "    prefix(\"\\\\sm\",310).__repr__=      lambda x: \"~\"+w(x,0) #version of \\sim with better spacing\n",
    "    prefix(\"\\\\Mod\",350).__repr__=     lambda x: \"[z for y in pr9(pyp9(\"+p9st(x.a[0])+\"),[],\"+(p9st(x.a[2]) if len(x.a)>2\\\n",
    "      else \"100\")+\",0,[\"+(p9st(x.a[1]) if len(x.a)>1 else \"2\")+\"])[2:] for z in y]\"\n",
    "    prefix(\"\\\\Con\",350).__repr__=     lambda x: \"congruences(\"+str(x.a[0])+\")\" # set of congruences of an algebra\n",
    "    prefix(\"\\\\Pre\",350).__repr__=     lambda x: \"precongruences(\"+str(x.a[0])+\")\" # set of precongruences of a po-algebra\n",
    "    infix(\"\\\\models\", 550).__repr__ = lambda x: \"check(\"+p9st(x.a[0])+\",\\\"\"+p9st(x.a[1])+\"\\\")\" # check if A satisfies phi\n",
    "    infix(\"\\\\vdash\", 550).__repr__ =  lambda x: \"pr9(pyp9(\"+p9st(x.a[0])+\"),[pyp9(\\\"\"+p9st(x.a[1])+\"\\\")],2,60)[0]\" # proves\n",
    "    infix(\"\\\\nvdash\", 550).__repr__ = lambda x: \"pr9(pyp9(\"+p9st(x.a[0])+\"),[pyp9(\\\"\"+p9st(x.a[1])+\"\\\")],10,0)[0]\" # disproves\n",
    "########end of Prover9 syntax\n",
    "\n",
    "init_symbol_table()\n",
    "\n",
    "# tokenize(st):\n",
    "  # \\frac{d}{dx}\n",
    "\n",
    "def tokenize(st):\n",
    "    i = 0\n",
    "    # loop the length of the string\n",
    "    while i<len(st):\n",
    "        tok = st[i]\n",
    "        j = i+1\n",
    "        # \\frac{0}\n",
    "        if j<len(st) and (st[j]==\"{\" or st[j]==\"}\") and tok=='\\\\':\n",
    "          j += 1\n",
    "          tok = st[i:j]\n",
    "          symbol(tok)\n",
    "        elif letter(tok) or tok=='\\\\': #read consecutive letters or digits\n",
    "            while j<len(st) and letter(st[j]): j+=1\n",
    "            tok = st[i:j]\n",
    "            if tok==\"\\\\\" and j<len(st) and st[j]==\" \": j+=1\n",
    "            if tok==\"\\\\text\": j = st.find(\"}\",j)+1 if st[j]==\"{\" else j #extend token to include {...} part\n",
    "            if tok==\"\\\\s\": j = st.find(\"}\",j)+1 if st[j]==\"{\" else j\n",
    "            if tok==\"\\\\mathcal\": j = st.find(\"}\",j)+1 if st[j]==\"{\" else j\n",
    "            if tok==\"\\\\cc\": j = st.find(\"}\",j)+1 if st[j]==\"{\" else j\n",
    "            if tok==\"\\\\tup\": j += 1 if st[j]==\"{\" else j\n",
    "            tok = st[i:j]\n",
    "            symbol(tok)\n",
    "            if j<len(st) and st[j]=='(': prefix(tok, 1200) #promote tok to function\n",
    "        elif \"0\"<=tok<=\"9\": #read (decimal) number in scientific notation\n",
    "            while j<len(st) and ('0'<=st[j]<='9' or st[j]=='.'):# in ['.','e','E','-']):\n",
    "                j+=1\n",
    "            tok = st[i:j]\n",
    "            symbol(tok)\n",
    "        elif tok ==\"-\" and st[j]==\"-\": pass\n",
    "        elif tok not in \" '(,)[]{}\\\\|\\n\": #read operator string\n",
    "            while j<len(st) and not alpha_numeric(st[j]) and \\\n",
    "                  st[j] not in \" '(,)[]{}\\\\\\n\": j+=1\n",
    "            tok = st[i:j]\n",
    "            if tok not in symbol_table: symbol(tok)\n",
    "        i = j\n",
    "        if tok not in [' ','\\\\newline','\\\\ ','\\n']: #skip these tokens\n",
    "            symb = symbol_table[tok]\n",
    "            if not symb: #symb = symbol(tok)\n",
    "                raise SyntaxError(\"Unknown operator\")\n",
    "#            print tok, 'ST', symbol_table.keys()\n",
    "            yield symb()\n",
    "    symb = symbol_table[\"(end)\"]\n",
    "    yield symb()\n",
    "\n",
    "def expression(rbp=1200): # read an expression from token stream\n",
    "    global token\n",
    "    t = token\n",
    "    try:\n",
    "      token = next()\n",
    "    except:\n",
    "      token = ttt\n",
    "    left = t.nulld()\n",
    "    while rbp > token.lbp:\n",
    "        t = token\n",
    "        token = next()\n",
    "        left = t.leftd(left)\n",
    "    return left\n",
    "\n",
    "# parse(str):\n",
    "  # \\sin{}\n",
    "\n",
    "def parse(str):\n",
    "    global token, next\n",
    "    next = tokenize(str).__next__\n",
    "    token = next()\n",
    "    return expression()\n",
    "\n",
    "ttt=parse(\".\")\n",
    "\n",
    "def ast(t):\n",
    "    if len(t.a)==0: return '\"'+t.sy+'\"'\n",
    "    return '(\"'+t.sy+'\",'+\", \".join(ast(s) for s in t.a)+\")\"\n",
    "\n",
    "def intersection(X):\n",
    "  S = frozenset()\n",
    "  for x in X: S &= x\n",
    "  return S\n",
    "\n",
    "def union(X):\n",
    "  S = frozenset()\n",
    "  for x in X: S |= x\n",
    "  return S\n",
    "\n",
    "def powerset(X):\n",
    "  PX = [()]\n",
    "  for i in range(len(X)):\n",
    "    PX += itertools.combinations(X, i+1)\n",
    "  return frozenset(frozenset(x) for x in PX)\n",
    "\n",
    "def converse(R):\n",
    "  return frozenset((x[1],x[0]) for x in R if len(x)==2)\n",
    "\n",
    "def relcomposition(R,S):\n",
    "  ss = {}\n",
    "  for x in S:\n",
    "    if len(x)==2:\n",
    "      if x[0] not in ss.keys(): ss[x[0]] = set()\n",
    "      ss[x[0]].add(x[1])\n",
    "  rr = frozenset(x for x in R if len(x)==2 and x[1] in ss.keys())\n",
    "  return frozenset((x[0],y) for x in rr for y in ss[x[1]])\n",
    "\n",
    "def eqrel2partition(co):\n",
    "    classes = {}\n",
    "    for x in co:\n",
    "        if x[0] not in classes.keys(): classes[x[0]] = set([x[0]])\n",
    "        classes[x[0]].add(x[1])\n",
    "    return frozenset(frozenset(classes[y]) for y in classes.keys())\n",
    "\n",
    "def rel2pairs(rel):\n",
    "  B = range(len(rel))\n",
    "  return frozenset((i,j) for j in B for i in B if rel[i][j])\n",
    "\n",
    "cntr = 0 # global model counter\n",
    "def pyla(p,newl=False): # convert Python object to LaTeX string\n",
    "  global cntr\n",
    "  if type(p)==frozenset:\n",
    "    try:\n",
    "      sp = sorted(p)\n",
    "    except:\n",
    "      sp = p\n",
    "    cntr=0; st=\"\\\\{\"+\", \".join(pyla(el,True) for el in sp)+\"\\\\}\" if len(p)>0 else \"\\\\emptyset\";cntr=0\n",
    "  elif type(p)==list:  cntr=0; st=\"[\"+\", \".join(pyla(el,True) for el in p)+\"]\";cntr=0\n",
    "  elif type(p)==tuple: cntr=0; st=\"(\"+\", \".join(pyla(el,True) for el in p)+\")\";cntr=0\n",
    "  elif type(p)==bool:  st = \"\\mathbf{\"+str(p)+\"}\"\n",
    "  elif prvrs and type(p)==Model: st = modelLa(p)\n",
    "  elif prvrs and type(p)==Proof: st = proofLa(p)\n",
    "  elif type(p)==str:\n",
    "    if p==\"N\": return \"\\\\text{No counterexample after 10 seconds}\"\n",
    "    try:\n",
    "      st =  str(parse(p if p[0]!=\"_\" else \"\\\\\"+p[1:]))\n",
    "    except: pass\n",
    "    if st[0]==\"_\": st = \"\\\\\"+st[1:]\n",
    "  else:\n",
    "    st =  str(p)\n",
    "  if newl and len(st)>=20: return \"\\\\newline\\n\"+st\n",
    "  #if newl and len(st)>=5: return \" \\\\ \"+st\n",
    "  return st\n",
    "\n",
    "import networkx as nx\n",
    "from graphviz import Graph\n",
    "from IPython.display import display_html\n",
    "def hasse_diagram(op,rel,dual,unary=[]):\n",
    "    A = range(len(op))\n",
    "    G = nx.DiGraph()\n",
    "    if rel:\n",
    "        G.add_edges_from([(x,y) for x in A for y in A if (op[y][x] if dual else op[x][y]) and x!=y])\n",
    "    else: \n",
    "        G.add_edges_from([(x,y) for x in A for y in A if op[x][y]==(y if dual else x) and x!=y])\n",
    "    try:\n",
    "        G = nx.algorithms.dag.transitive_reduction(G)\n",
    "    except:\n",
    "        pass\n",
    "    P = Graph()\n",
    "    P.attr('node', shape='circle', width='.15', height='.15', fixedsize='true', fontsize='10')\n",
    "    for x in A: P.node(str(x), color='red' if unary[x] else 'black')\n",
    "    P.edges([(str(x[0]),str(x[1])) for x in G.edges])\n",
    "    return P\n",
    "\n",
    "def m4diag(li,symbols=\"<= v\", unaryRel=\"\"):\n",
    "    # use graphviz to display a mace4 structure as a diagram\n",
    "    # symbols is a list of binary symbols that define a poset or graph\n",
    "    # unaryRel is a unary relation symbol that is displayed by red nodes\n",
    "    i = -1\n",
    "    sy = symbols.split(\" \")\n",
    "    #print(sy)\n",
    "    st = \"\"\n",
    "    for x in li:\n",
    "        i+=1\n",
    "        st+=str(i)\n",
    "        uR = x.relations[unaryRel] if unaryRel!=\"\" else [0]*x.cardinality\n",
    "        for s in sy:\n",
    "            t = s[:-1] if s[-1]=='d' else s\n",
    "            if t in x.operations.keys():\n",
    "                st+=hasse_diagram(x.operations[t],False,s[-1]=='d',uR)._repr_image_svg_xml()+\"&nbsp; &nbsp; &nbsp; \"\n",
    "            elif t in x.relations.keys():\n",
    "                st+=hasse_diagram(x.relations[t], True, s[-1]=='d',uR)._repr_image_svg_xml()+\"&nbsp; &nbsp; &nbsp; \"\n",
    "        st+=\" &nbsp; \"\n",
    "    display_html(st,raw=True)\n",
    "\n",
    "# Convert (a subset of) LaTeX input to valid Python(sympy) code\n",
    "# Display LaTeX with calculated answers inserted\n",
    "# Return LaTeX and/or Python code as a string\n",
    "\n",
    "#nextmath(st, index):\n",
    "  # checks if the string is enclosed in '$' or '$$'\n",
    "\n",
    "  # st - string input from user\n",
    "  # index - st starting index\n",
    "\n",
    "def nextmath(st,i): #find next j,k>=i such that st[j:k] is inline or display math\n",
    "  # find first occurence of '$'\n",
    "  j = st.find(\"$\",i)\n",
    "  # if '$' is not found, return j=-1,k=0,d=false\n",
    "  if j==-1: return (-1,0,False)\n",
    "  # check if the math string is just \"$$\"\n",
    "  if st[j+1]==\"$\":\n",
    "    # set k equal to the starting index of \"$$\"\n",
    "    k = st.find(\"$$\",j+2)\n",
    "    # j = index after the double \"$$\"\n",
    "    # k = starting index of \"$$\"\n",
    "    # d = True (found \"$$\")\n",
    "    return (j+2,k,True)\n",
    "  else:\n",
    "    # j = index after first '$'\n",
    "    # k = index of second '$' (if there is one)\n",
    "    # d = False (did not find \"$$\")\n",
    "    return (j+1,st.find(\"$\",j+1),False)\n",
    "\n",
    "\n",
    "# convert st (a LaTeX string) to Python/Prover9 code and evaluate it\n",
    "# creates syntax tree and decides the hierarchy of functions to use first\n",
    "# process(st, info, nocolor):\n",
    "  # st - string input\n",
    "\n",
    "\n",
    "def process(st, info=False, nocolor=False):\n",
    "  # use latex2sympy2 parser if the user uses the ls() function\n",
    "  if st[:3]==\"ls(\": # use latex2sympy2 parser\n",
    "    return (\"\" if nocolor else \"\\color{green}\")+macros+st[3:-1]+(\"\" if nocolor else \"\\color{blue}\")+\" = \"+latex2latex(st[3:-1])\n",
    "  # how does this work?\n",
    "  t=parse(st)\n",
    "  if info:\n",
    "    print(\"Abstract syntax tree:\", ast(t))\n",
    "    print(\"Expression:\", t)\n",
    "  if t.sy!=\"?\": # check if t is not asking to be evaluated\n",
    "    if t.sy!=\"=\": # check if t is an assignment\n",
    "      if t.sy==\"show\": # check if t is a show command\n",
    "        try:\n",
    "          exec(str(t),globals())\n",
    "        except:\n",
    "          if info: print(\"no result\")\n",
    "          return macros+st\n",
    "        return (\"\" if nocolor else \"\\color{green}\")+macros+st\n",
    "      return macros+st\n",
    "    ss = str(t).replace(\"==\",\"=\",1)\n",
    "    try:\n",
    "      exec(ss,globals())\n",
    "    except:\n",
    "      if info: print(\"no result\")\n",
    "      return macros+st\n",
    "    return (\"\" if nocolor else \"\\color{green}\")+macros+st\n",
    "  tt = t.a[0]\n",
    "  st = st.replace(\"?\",\"\")\n",
    "  if tt.sy==\"=\":\n",
    "    ss = str(tt).replace(\"==\",\"=\",1)\n",
    "    try:\n",
    "      exec(ss,globals())\n",
    "    except:\n",
    "      if info: print(\"no result\")\n",
    "      return macros+st\n",
    "    return (\"\" if nocolor else \"\\color{green}\")+macros+st+(\"\" if nocolor else \"\\color{blue}\")+\" = \"+pyla(eval(str(tt.a[0])))\n",
    "  try:\n",
    "    val=eval(str(tt))\n",
    "    if info: print(\"Value:\", val)\n",
    "    ltx = val if str(tt)[:5]==\"latex\" else pyla(val)\n",
    "  except:\n",
    "    return (\"\" if nocolor else \"\\color{green}\")+macros+st\n",
    "  return (\"\" if nocolor else \"\\color{green}\")+macros+st+(\"\" if nocolor else \"\\color{blue}\")+\" = \"+ltx\n",
    "\n",
    "# l(st, info, output, nocolor)\n",
    "  # st - string input from user\n",
    "  # info - \n",
    "  # output -\n",
    "  # nocolor - \n",
    "\n",
    "\n",
    "  # Main function to translate valid LaTeX/Markdown string st\n",
    "def l(st, info=False, output=False, nocolor=False):\n",
    "  # assuming this is used to get r\"\"\" ?\n",
    "  global macros\n",
    "  st = re.sub(\"\\n%.*?\\n\",\"\\n\",st) #remove LaTeX comments\n",
    "  st = re.sub(\"%.*?\\n\",\"\\n\",st) #remove LaTeX comments\n",
    "  # look for '$' in the string and update indices (j,k)\n",
    "  (j,k,d) = nextmath(st,0)\n",
    "  # out = the first '$'\n",
    "  out = st[0:j]\n",
    "  # while there are two '$'\n",
    "  while j!=-1 and k!=-1:\n",
    "    # process the math equation in latex\n",
    "    out += process(st[j:k],info,nocolor)\n",
    "    p = k\n",
    "    (j,k,d) = nextmath(st,k+(2 if d else 1))\n",
    "    out += st[p:j] if j!=-1 else st[p:]\n",
    "  display(Markdown(out))\n",
    "  if output: print(out)\n",
    "\n",
    "def m(st, info=False, output=False, nocolor=False): \n",
    "  # math input; $-signs are not needed, but commands should be separated by empty lines\n",
    "  global macros\n",
    "  st = re.sub(\"\\n%.*?\\n\",\"\\n\",st) #remove LaTeX comments\n",
    "  st = re.sub(\"%.*?\\n\",\"\\n\",st) #remove LaTeX comments\n",
    "  li = st.split(\"\\n\\n\")\n",
    "  out = \"$\"+\"$\\n\\n$\".join(process(x.strip(),info,nocolor) for x in li)+\"$\"\n",
    "  display(Markdown(out))\n",
    "  if output: print(out)\n",
    "\n",
    "prvrs=\"Model\" in dir() # check if provers module is loaded"
   ]
  },
  {
   "cell_type": "code",
   "execution_count": 43,
   "metadata": {},
   "outputs": [
    {
     "name": "stdout",
     "output_type": "stream",
     "text": [
      "Abstract syntax tree: (\"\\frac\",(\"+\",\"1\", (\"\\frac\",\"a\", \"b\")), \"b\")\n",
      "Expression: sympy.simplify(1 + sympy.simplify(a/b)/b)\n"
     ]
    },
    {
     "data": {
      "text/markdown": [
       "\n",
       "$\\frac {1+\\frac{a}{b}}{b}$\n"
      ],
      "text/plain": [
       "<IPython.core.display.Markdown object>"
      ]
     },
     "metadata": {},
     "output_type": "display_data"
    },
    {
     "name": "stdout",
     "output_type": "stream",
     "text": [
      "Abstract syntax tree: (\"?\",(\"\\frac\",\"1000\", \"10\"))\n",
      "Expression: sympy.simplify(1000/10)?\n",
      "Value: 100.000000000000\n"
     ]
    },
    {
     "data": {
      "text/markdown": [
       "\n",
       "$\\color{green}\\frac {1000} {10}\\color{blue} = 100.000000000000$\n"
      ],
      "text/plain": [
       "<IPython.core.display.Markdown object>"
      ]
     },
     "metadata": {},
     "output_type": "display_data"
    },
    {
     "name": "stdout",
     "output_type": "stream",
     "text": [
      "Abstract syntax tree: (\"?\",(\"\\frac\",\"3\", \"6\"))\n",
      "Expression: sympy.simplify(3/6)?\n",
      "Value: 0.500000000000000\n"
     ]
    },
    {
     "data": {
      "text/markdown": [
       "\n",
       "$\\color{green}\\frac{3}{6}\\color{blue} = 0.500000000000000$\n"
      ],
      "text/plain": [
       "<IPython.core.display.Markdown object>"
      ]
     },
     "metadata": {},
     "output_type": "display_data"
    },
    {
     "name": "stdout",
     "output_type": "stream",
     "text": [
      "Abstract syntax tree: (\"?\",(\"\\frac\",\"123\", \"5\"))\n",
      "Expression: sympy.simplify(123/5)?\n",
      "Value: 24.6000000000000\n"
     ]
    },
    {
     "data": {
      "text/markdown": [
       "\n",
       "$\\color{green}\\frac 123 5\\color{blue} = 24.6000000000000$\n"
      ],
      "text/plain": [
       "<IPython.core.display.Markdown object>"
      ]
     },
     "metadata": {},
     "output_type": "display_data"
    },
    {
     "name": "stdout",
     "output_type": "stream",
     "text": [
      "Abstract syntax tree: (\"?\",(\"\\frac\",(\"\\cdot\",\"2\", \"x\"), \"x\"))\n",
      "Expression: sympy.simplify(2*x/x)?\n",
      "Value: 2\n"
     ]
    },
    {
     "data": {
      "text/markdown": [
       "\n",
       "$\\color{green}\\frac {2\\cdot{x}}{x}\\color{blue} = 2$\n"
      ],
      "text/plain": [
       "<IPython.core.display.Markdown object>"
      ]
     },
     "metadata": {},
     "output_type": "display_data"
    },
    {
     "name": "stdout",
     "output_type": "stream",
     "text": [
      "Abstract syntax tree: (\"?\",(\"\\frac\",\"0.42332\", \"234\"))\n",
      "Expression: sympy.simplify(0.42332/234)?\n",
      "Value: 0.00180905982905983\n"
     ]
    },
    {
     "data": {
      "text/markdown": [
       "\n",
       "$\\color{green}\\frac {0.42332}{234}\\color{blue} = 0.00180905982905983$\n"
      ],
      "text/plain": [
       "<IPython.core.display.Markdown object>"
      ]
     },
     "metadata": {},
     "output_type": "display_data"
    }
   ],
   "source": [
    "#fraction testing\n",
    "l(r\"\"\"\n",
    "$\\frac {1+\\frac{a}{b}}{b}$\n",
    "\"\"\",1)\n",
    "\n",
    "l(r\"\"\"\n",
    "$\\frac {1000} {10}?$\n",
    "\"\"\",1)\n",
    "\n",
    "l(r\"\"\"\n",
    "$\\frac{3}{6}?$\n",
    "\"\"\",1)\n",
    "\n",
    "# display error with multiple digit number w/o brackets\n",
    "l(r\"\"\"\n",
    "$\\frac 123 5?$\n",
    "\"\"\",1)\n",
    "\n",
    "l(r\"\"\"\n",
    "$\\frac {2\\cdot{x}}{x}?$\n",
    "\"\"\",1)\n",
    "\n",
    "l(r\"\"\"\n",
    "$\\frac {0.42332}{234}?$\n",
    "\"\"\",1)"
   ]
  },
  {
   "cell_type": "code",
   "execution_count": 44,
   "metadata": {},
   "outputs": [
    {
     "name": "stdout",
     "output_type": "stream",
     "text": [
      "Abstract syntax tree: (\"?\",(\"\\sin\",(\"\\frac\",(\"\\cdot\",\"2\", \"\\pi\"), \"\\pi\")))\n",
      "Expression: sympy.sin(sympy.simplify(2*_pi/_pi))?\n",
      "Value: sin(2)\n"
     ]
    },
    {
     "data": {
      "text/markdown": [
       "\n",
       "$\\color{green}\\sin(\\frac{2\\cdot \\pi}{\\pi})\\color{blue} = sin(2)$\n"
      ],
      "text/plain": [
       "<IPython.core.display.Markdown object>"
      ]
     },
     "metadata": {},
     "output_type": "display_data"
    },
    {
     "name": "stdout",
     "output_type": "stream",
     "text": [
      "Abstract syntax tree: (\"?\",(\"\\cos\",(\"\\cdot\",\"2\", \"\\pi\")))\n",
      "Expression: sympy.cos(2*_pi)?\n",
      "Value: 1\n"
     ]
    },
    {
     "data": {
      "text/markdown": [
       "\n",
       "$\\color{green}\\cos(2\\cdot \\pi)\\color{blue} = 1$\n"
      ],
      "text/plain": [
       "<IPython.core.display.Markdown object>"
      ]
     },
     "metadata": {},
     "output_type": "display_data"
    },
    {
     "name": "stdout",
     "output_type": "stream",
     "text": [
      "Abstract syntax tree: (\"?\",(\"\\sin\",\"\\pi\"))\n",
      "Expression: sympy.sin(_pi)?\n",
      "Value: 0\n"
     ]
    },
    {
     "data": {
      "text/markdown": [
       "\n",
       "$\\color{green}\\sin(\\pi)\\color{blue} = 0$\n"
      ],
      "text/plain": [
       "<IPython.core.display.Markdown object>"
      ]
     },
     "metadata": {},
     "output_type": "display_data"
    },
    {
     "name": "stdout",
     "output_type": "stream",
     "text": [
      "Abstract syntax tree: (\"?\",(\"\\arctan\",\"0\"))\n",
      "Expression: sympy.atan(0)?\n",
      "Value: 0\n"
     ]
    },
    {
     "data": {
      "text/markdown": [
       "\n",
       "$\\color{green}\\arctan(0)\\color{blue} = 0$\n"
      ],
      "text/plain": [
       "<IPython.core.display.Markdown object>"
      ]
     },
     "metadata": {},
     "output_type": "display_data"
    },
    {
     "name": "stdout",
     "output_type": "stream",
     "text": [
      "Abstract syntax tree: (\"?\",(\"\\arccos\",(\"\\cdot\",\"2\", \"4\")))\n",
      "Expression: sympy.acos(2*4)?\n",
      "Value: acos(8)\n"
     ]
    },
    {
     "data": {
      "text/markdown": [
       "\n",
       "$\\color{green}\\arccos(2\\cdot 4)\\color{blue} = acos(8)$\n"
      ],
      "text/plain": [
       "<IPython.core.display.Markdown object>"
      ]
     },
     "metadata": {},
     "output_type": "display_data"
    },
    {
     "name": "stdout",
     "output_type": "stream",
     "text": [
      "Abstract syntax tree: (\"?\",(\"\\sin\",(\"\\cdot\",\"2\", (\"\\frac\",\"1\", \"2\"))))\n",
      "Expression: sympy.sin(2*sympy.simplify(1/2))?\n",
      "Value: 0.841470984807897\n"
     ]
    },
    {
     "data": {
      "text/markdown": [
       "\n",
       "$\\color{green}\\sin(2\\cdot \\frac{1}{2})\\color{blue} = 0.841470984807897$\n"
      ],
      "text/plain": [
       "<IPython.core.display.Markdown object>"
      ]
     },
     "metadata": {},
     "output_type": "display_data"
    },
    {
     "name": "stdout",
     "output_type": "stream",
     "text": [
      "Abstract syntax tree: (\"?\",(\"\\sin\",(\"\\frac\",\"\\pi\", \"\\pi\")))\n",
      "Expression: sympy.sin(sympy.simplify(_pi/_pi))?\n",
      "Value: sin(1)\n"
     ]
    },
    {
     "data": {
      "text/markdown": [
       "\n",
       "$\\color{green}\\sin(\\frac {\\pi}{\\pi})\\color{blue} = sin(1)$\n"
      ],
      "text/plain": [
       "<IPython.core.display.Markdown object>"
      ]
     },
     "metadata": {},
     "output_type": "display_data"
    },
    {
     "name": "stdout",
     "output_type": "stream",
     "text": [
      "Abstract syntax tree: (\"?\",(\"\\sin\",(\"\\frac\",\"1\", \"0\")))\n",
      "Expression: sympy.sin(sympy.simplify(1/0))?\n"
     ]
    },
    {
     "data": {
      "text/markdown": [
       "\n",
       "$\\color{green}\\sin(\\frac{1}{0})$\n"
      ],
      "text/plain": [
       "<IPython.core.display.Markdown object>"
      ]
     },
     "metadata": {},
     "output_type": "display_data"
    },
    {
     "name": "stdout",
     "output_type": "stream",
     "text": [
      "Abstract syntax tree: (\"?\",(\"\\sin\",\"1\"))\n",
      "Expression: sympy.sin(1)?\n",
      "Value: sin(1)\n"
     ]
    },
    {
     "data": {
      "text/markdown": [
       "\n",
       "$\\color{green}\\sin(1)\\color{blue} = sin(1)$\n"
      ],
      "text/plain": [
       "<IPython.core.display.Markdown object>"
      ]
     },
     "metadata": {},
     "output_type": "display_data"
    }
   ],
   "source": [
    "# trig testing\n",
    "l(r\"\"\"\n",
    "$\\sin(\\frac{2\\cdot \\pi}{\\pi})?$\n",
    "\"\"\",1)\n",
    "\n",
    "l(r\"\"\"\n",
    "$\\cos(2\\cdot \\pi)?$\n",
    "\"\"\",1)\n",
    "\n",
    "l(r\"\"\"\n",
    "$\\sin(\\pi)?$\n",
    "\"\"\",1)\n",
    "\n",
    "l(r\"\"\"\n",
    "$\\arctan(0)?$\n",
    "\"\"\",1)\n",
    "\n",
    "l(r\"\"\"\n",
    "$\\arccos(2\\cdot 4)?$\n",
    "\"\"\",1)\n",
    "\n",
    "l(r\"\"\"\n",
    "$\\sin(2\\cdot \\frac{1}{2})?$\n",
    "\"\"\",1)\n",
    "\n",
    "l(r\"\"\"\n",
    "$\\sin(\\frac {\\pi}{\\pi})?$\n",
    "\"\"\",1)\n",
    "\n",
    "l(r\"\"\"\n",
    "$\\sin(\\frac{1}{0})?$\n",
    "\"\"\",1)\n",
    "\n",
    "l(r\"\"\"\n",
    "$\\sin(1)?$\n",
    "\"\"\",1)"
   ]
  },
  {
   "cell_type": "code",
   "execution_count": 18,
   "metadata": {},
   "outputs": [
    {
     "name": "stdout",
     "output_type": "stream",
     "text": [
      "Abstract syntax tree: (\"?\",(\"\\frac\",\"d\", \"dx\", (\"\\cos\",\"x\")))\n",
      "Expression: latex(diff(sympy.cos(x),x))?\n",
      "Value: - \\sin{(x)}\n"
     ]
    },
    {
     "data": {
      "text/markdown": [
       "\n",
       "$\\color{green}\\frac d{dx}(\\cos x)\\color{blue} = - \\sin{(x)}$\n"
      ],
      "text/plain": [
       "<IPython.core.display.Markdown object>"
      ]
     },
     "metadata": {},
     "output_type": "display_data"
    },
    {
     "name": "stdout",
     "output_type": "stream",
     "text": [
      "Abstract syntax tree: (\"?\",(\"\\frac\",\"d\", \"dx\", (\"-\",(\"\\sin\",\"x\"))))\n",
      "Expression: latex(diff(-sympy.sin(x),x))?\n",
      "Value: - \\cos{(x)}\n"
     ]
    },
    {
     "data": {
      "text/markdown": [
       "\n",
       "$\\color{green}\\frac d{dx}(-\\sin x)\\color{blue} = - \\cos{(x)}$\n"
      ],
      "text/plain": [
       "<IPython.core.display.Markdown object>"
      ]
     },
     "metadata": {},
     "output_type": "display_data"
    },
    {
     "name": "stdout",
     "output_type": "stream",
     "text": [
      "Abstract syntax tree: (\"?\",(\"\\frac\",\"d\", \"dx\", (\"+\",(\"+\",(\"\\cdot\",\"3\", (\"^\",\"x\", \"5\")), (\"\\cdot\",\"4\", (\"^\",\"x\", \"2\"))), \"5\")))\n",
      "Expression: latex(diff((3*x**5 + 4*x**2) + 5,x))?\n",
      "Value: 15 x^{4} + 8 x\n"
     ]
    },
    {
     "data": {
      "text/markdown": [
       "\n",
       "$\\color{green}\\frac d{dx}(3\\cdot{x^5} + 4\\cdot{x^2}+5)\\color{blue} = 15 x^{4} + 8 x$\n"
      ],
      "text/plain": [
       "<IPython.core.display.Markdown object>"
      ]
     },
     "metadata": {},
     "output_type": "display_data"
    },
    {
     "name": "stdout",
     "output_type": "stream",
     "text": [
      "Abstract syntax tree: (\"?\",(\"\\frac\",\"d\", \"dx\", (\"^\",\"x\", (\"\\frac\",(\"-\",\"4\"), \"5\"))))\n",
      "Expression: latex(diff(x**(sympy.simplify(-4/5)),x))?\n",
      "Value: - \\frac{0.8}{x^{1.8}}\n"
     ]
    },
    {
     "data": {
      "text/markdown": [
       "\n",
       "$\\color{green}\\frac d{dx}(x^{\\frac{-4}{5}})\\color{blue} = - \\frac{0.8}{x^{1.8}}$\n"
      ],
      "text/plain": [
       "<IPython.core.display.Markdown object>"
      ]
     },
     "metadata": {},
     "output_type": "display_data"
    },
    {
     "name": "stdout",
     "output_type": "stream",
     "text": [
      "Abstract syntax tree: (\"?\",(\"\\frac\",\"d\", \"dx\", (\"\\ln\",\"x\")))\n",
      "Expression: latex(diff(math.log(x),x))?\n"
     ]
    },
    {
     "data": {
      "text/markdown": [
       "\n",
       "$\\color{green}\\frac d{dx}(\\ln x)$\n"
      ],
      "text/plain": [
       "<IPython.core.display.Markdown object>"
      ]
     },
     "metadata": {},
     "output_type": "display_data"
    },
    {
     "name": "stdout",
     "output_type": "stream",
     "text": [
      "Abstract syntax tree: (\"?\",(\"\\frac\",\"d\", \"dx\", (\"\\cos\",\"x\")))\n",
      "Expression: latex(diff(sympy.cos(x),x))?\n",
      "Value: - \\sin{(x)}\n"
     ]
    },
    {
     "data": {
      "text/markdown": [
       "\n",
       "$\\color{green}\\frac d{dx}(\\cos x)\\color{blue} = - \\sin{(x)}$\n"
      ],
      "text/plain": [
       "<IPython.core.display.Markdown object>"
      ]
     },
     "metadata": {},
     "output_type": "display_data"
    }
   ],
   "source": [
    "# derivative testing (in the works)\n",
    "l(r\"\"\"\n",
    "$\\frac d{dx}(\\cos x)?$\n",
    "\"\"\",1)\n",
    "\n",
    "l(r\"\"\"\n",
    "$\\frac d{dx}(-\\sin x)?$\n",
    "\"\"\",1)\n",
    "\n",
    "l(r\"\"\"\n",
    "$\\frac d{dx}(3\\cdot{x^5} + 4\\cdot{x^2}+5)?$\n",
    "\"\"\",1)\n",
    "\n",
    "l(r\"\"\"\n",
    "$\\frac d{dx}(x^{\\frac{-4}{5}})?$\n",
    "\"\"\",1)\n",
    "\n",
    "l(r\"\"\"\n",
    "$\\frac d{dx}(\\ln x)?$\n",
    "\"\"\",1)"
   ]
  },
  {
   "cell_type": "code",
   "execution_count": 21,
   "metadata": {},
   "outputs": [
    {
     "name": "stdout",
     "output_type": "stream",
     "text": [
      "Abstract syntax tree: (\"\\int\",\"x\")\n",
      "Expression: "
     ]
    },
    {
     "ename": "IndexError",
     "evalue": "list index out of range",
     "output_type": "error",
     "traceback": [
      "\u001b[1;31m---------------------------------------------------------------------------\u001b[0m",
      "\u001b[1;31mIndexError\u001b[0m                                Traceback (most recent call last)",
      "\u001b[1;32mc:\\Users\\szens\\OneDrive\\Desktop\\DesktopShit\\CompSci\\AlgoAnalysis\\LaTeXPy\\test.ipynb Cell 5\u001b[0m in \u001b[0;36m2\n\u001b[0;32m      <a href='vscode-notebook-cell:/c%3A/Users/szens/OneDrive/Desktop/DesktopShit/CompSci/AlgoAnalysis/LaTeXPy/test.ipynb#W4sZmlsZQ%3D%3D?line=0'>1</a>\u001b[0m \u001b[39m# derivative testing (in the works)\u001b[39;00m\n\u001b[1;32m----> <a href='vscode-notebook-cell:/c%3A/Users/szens/OneDrive/Desktop/DesktopShit/CompSci/AlgoAnalysis/LaTeXPy/test.ipynb#W4sZmlsZQ%3D%3D?line=1'>2</a>\u001b[0m l(\u001b[39mr\u001b[39m\u001b[39m\"\"\"\u001b[39m\n\u001b[0;32m      <a href='vscode-notebook-cell:/c%3A/Users/szens/OneDrive/Desktop/DesktopShit/CompSci/AlgoAnalysis/LaTeXPy/test.ipynb#W4sZmlsZQ%3D%3D?line=2'>3</a>\u001b[0m \u001b[39m$\u001b[39m\u001b[39m\\\u001b[39m\u001b[39mint \u001b[39m\u001b[39m{x}\u001b[39;00m\u001b[39mdx ?$\u001b[39m\n\u001b[0;32m      <a href='vscode-notebook-cell:/c%3A/Users/szens/OneDrive/Desktop/DesktopShit/CompSci/AlgoAnalysis/LaTeXPy/test.ipynb#W4sZmlsZQ%3D%3D?line=3'>4</a>\u001b[0m \u001b[39m\"\"\"\u001b[39m,\u001b[39m1\u001b[39m)\n",
      "\u001b[1;32mc:\\Users\\szens\\OneDrive\\Desktop\\DesktopShit\\CompSci\\AlgoAnalysis\\LaTeXPy\\test.ipynb Cell 5\u001b[0m in \u001b[0;36m6\n\u001b[0;32m    <a href='vscode-notebook-cell:/c%3A/Users/szens/OneDrive/Desktop/DesktopShit/CompSci/AlgoAnalysis/LaTeXPy/test.ipynb#W4sZmlsZQ%3D%3D?line=661'>662</a>\u001b[0m \u001b[39m# while there are two '$'\u001b[39;00m\n\u001b[0;32m    <a href='vscode-notebook-cell:/c%3A/Users/szens/OneDrive/Desktop/DesktopShit/CompSci/AlgoAnalysis/LaTeXPy/test.ipynb#W4sZmlsZQ%3D%3D?line=662'>663</a>\u001b[0m \u001b[39mwhile\u001b[39;00m j\u001b[39m!=\u001b[39m\u001b[39m-\u001b[39m\u001b[39m1\u001b[39m \u001b[39mand\u001b[39;00m k\u001b[39m!=\u001b[39m\u001b[39m-\u001b[39m\u001b[39m1\u001b[39m:\n\u001b[0;32m    <a href='vscode-notebook-cell:/c%3A/Users/szens/OneDrive/Desktop/DesktopShit/CompSci/AlgoAnalysis/LaTeXPy/test.ipynb#W4sZmlsZQ%3D%3D?line=663'>664</a>\u001b[0m   \u001b[39m# process the math equation in latex\u001b[39;00m\n\u001b[1;32m--> <a href='vscode-notebook-cell:/c%3A/Users/szens/OneDrive/Desktop/DesktopShit/CompSci/AlgoAnalysis/LaTeXPy/test.ipynb#W4sZmlsZQ%3D%3D?line=664'>665</a>\u001b[0m   out \u001b[39m+\u001b[39m\u001b[39m=\u001b[39m process(st[j:k],info,nocolor)\n\u001b[0;32m    <a href='vscode-notebook-cell:/c%3A/Users/szens/OneDrive/Desktop/DesktopShit/CompSci/AlgoAnalysis/LaTeXPy/test.ipynb#W4sZmlsZQ%3D%3D?line=665'>666</a>\u001b[0m   p \u001b[39m=\u001b[39m k\n\u001b[0;32m    <a href='vscode-notebook-cell:/c%3A/Users/szens/OneDrive/Desktop/DesktopShit/CompSci/AlgoAnalysis/LaTeXPy/test.ipynb#W4sZmlsZQ%3D%3D?line=666'>667</a>\u001b[0m   (j,k,d) \u001b[39m=\u001b[39m nextmath(st,k\u001b[39m+\u001b[39m(\u001b[39m2\u001b[39m \u001b[39mif\u001b[39;00m d \u001b[39melse\u001b[39;00m \u001b[39m1\u001b[39m))\n",
      "\u001b[1;32mc:\\Users\\szens\\OneDrive\\Desktop\\DesktopShit\\CompSci\\AlgoAnalysis\\LaTeXPy\\test.ipynb Cell 5\u001b[0m in \u001b[0;36m6\n\u001b[0;32m    <a href='vscode-notebook-cell:/c%3A/Users/szens/OneDrive/Desktop/DesktopShit/CompSci/AlgoAnalysis/LaTeXPy/test.ipynb#W4sZmlsZQ%3D%3D?line=606'>607</a>\u001b[0m \u001b[39mif\u001b[39;00m info:\n\u001b[0;32m    <a href='vscode-notebook-cell:/c%3A/Users/szens/OneDrive/Desktop/DesktopShit/CompSci/AlgoAnalysis/LaTeXPy/test.ipynb#W4sZmlsZQ%3D%3D?line=607'>608</a>\u001b[0m   \u001b[39mprint\u001b[39m(\u001b[39m\"\u001b[39m\u001b[39mAbstract syntax tree:\u001b[39m\u001b[39m\"\u001b[39m, ast(t))\n\u001b[1;32m--> <a href='vscode-notebook-cell:/c%3A/Users/szens/OneDrive/Desktop/DesktopShit/CompSci/AlgoAnalysis/LaTeXPy/test.ipynb#W4sZmlsZQ%3D%3D?line=608'>609</a>\u001b[0m   \u001b[39mprint\u001b[39;49m(\u001b[39m\"\u001b[39;49m\u001b[39mExpression:\u001b[39;49m\u001b[39m\"\u001b[39;49m, t)\n\u001b[0;32m    <a href='vscode-notebook-cell:/c%3A/Users/szens/OneDrive/Desktop/DesktopShit/CompSci/AlgoAnalysis/LaTeXPy/test.ipynb#W4sZmlsZQ%3D%3D?line=609'>610</a>\u001b[0m \u001b[39mif\u001b[39;00m t\u001b[39m.\u001b[39msy\u001b[39m!=\u001b[39m\u001b[39m\"\u001b[39m\u001b[39m?\u001b[39m\u001b[39m\"\u001b[39m: \u001b[39m# check if t is not asking to be evaluated\u001b[39;00m\n\u001b[0;32m    <a href='vscode-notebook-cell:/c%3A/Users/szens/OneDrive/Desktop/DesktopShit/CompSci/AlgoAnalysis/LaTeXPy/test.ipynb#W4sZmlsZQ%3D%3D?line=610'>611</a>\u001b[0m   \u001b[39mif\u001b[39;00m t\u001b[39m.\u001b[39msy\u001b[39m!=\u001b[39m\u001b[39m\"\u001b[39m\u001b[39m=\u001b[39m\u001b[39m\"\u001b[39m: \u001b[39m# check if t is an assignment\u001b[39;00m\n",
      "\u001b[1;32mc:\\Users\\szens\\OneDrive\\Desktop\\DesktopShit\\CompSci\\AlgoAnalysis\\LaTeXPy\\test.ipynb Cell 5\u001b[0m in \u001b[0;36m3\n\u001b[0;32m    <a href='vscode-notebook-cell:/c%3A/Users/szens/OneDrive/Desktop/DesktopShit/CompSci/AlgoAnalysis/LaTeXPy/test.ipynb#W4sZmlsZQ%3D%3D?line=311'>312</a>\u001b[0m prefix2(\u001b[39m\"\u001b[39m\u001b[39m\\\\\u001b[39;00m\u001b[39mfrac\u001b[39m\u001b[39m\"\u001b[39m,\u001b[39m310\u001b[39m)\u001b[39m.\u001b[39m\u001b[39m__repr__\u001b[39m \u001b[39m=\u001b[39m  \u001b[39mlambda\u001b[39;00m x: \u001b[39m\"\u001b[39m\u001b[39mlatex(diff(\u001b[39m\u001b[39m\"\u001b[39m\u001b[39m+\u001b[39m\u001b[39mstr\u001b[39m(x\u001b[39m.\u001b[39ma[\u001b[39m2\u001b[39m])\u001b[39m+\u001b[39m\u001b[39m\"\u001b[39m\u001b[39m,\u001b[39m\u001b[39m\"\u001b[39m\u001b[39m+\u001b[39mx\u001b[39m.\u001b[39ma[\u001b[39m1\u001b[39m]\u001b[39m.\u001b[39msy[\u001b[39m1\u001b[39m:]\u001b[39m+\u001b[39m\u001b[39m\"\u001b[39m\u001b[39m))\u001b[39m\u001b[39m\"\u001b[39m \u001b[39mif\u001b[39;00m x\u001b[39m.\u001b[39ma[\u001b[39m0\u001b[39m]\u001b[39m.\u001b[39msy\u001b[39m==\u001b[39m\u001b[39m\"\u001b[39m\u001b[39md\u001b[39m\u001b[39m\"\u001b[39m \u001b[39mand\u001b[39;00m x\u001b[39m.\u001b[39ma[\u001b[39m1\u001b[39m]\u001b[39m.\u001b[39msy[\u001b[39m0\u001b[39m]\u001b[39m==\u001b[39m\u001b[39m\"\u001b[39m\u001b[39md\u001b[39m\u001b[39m\"\u001b[39m\\\n\u001b[0;32m    <a href='vscode-notebook-cell:/c%3A/Users/szens/OneDrive/Desktop/DesktopShit/CompSci/AlgoAnalysis/LaTeXPy/test.ipynb#W4sZmlsZQ%3D%3D?line=312'>313</a>\u001b[0m   \u001b[39melse\u001b[39;00m \u001b[39m\"\u001b[39m\u001b[39msympy.simplify(\u001b[39m\u001b[39m\"\u001b[39m\u001b[39m+\u001b[39m \u001b[39mstr\u001b[39m(x\u001b[39m.\u001b[39ma[\u001b[39m0\u001b[39m]) \u001b[39m+\u001b[39m \u001b[39m\"\u001b[39m\u001b[39m/\u001b[39m\u001b[39m\"\u001b[39m \u001b[39m+\u001b[39m \u001b[39mstr\u001b[39m(x\u001b[39m.\u001b[39ma[\u001b[39m1\u001b[39m]) \u001b[39m+\u001b[39m \u001b[39m\"\u001b[39m\u001b[39m)\u001b[39m\u001b[39m\"\u001b[39m\n\u001b[0;32m    <a href='vscode-notebook-cell:/c%3A/Users/szens/OneDrive/Desktop/DesktopShit/CompSci/AlgoAnalysis/LaTeXPy/test.ipynb#W4sZmlsZQ%3D%3D?line=314'>315</a>\u001b[0m \u001b[39m###### integrals functions #####\u001b[39;00m\n\u001b[1;32m--> <a href='vscode-notebook-cell:/c%3A/Users/szens/OneDrive/Desktop/DesktopShit/CompSci/AlgoAnalysis/LaTeXPy/test.ipynb#W4sZmlsZQ%3D%3D?line=315'>316</a>\u001b[0m prefix(\u001b[39m\"\u001b[39m\u001b[39m\\\\\u001b[39;00m\u001b[39mint\u001b[39m\u001b[39m\"\u001b[39m,\u001b[39m310\u001b[39m)\u001b[39m.\u001b[39m\u001b[39m__repr__\u001b[39m \u001b[39m=\u001b[39m    \u001b[39mlambda\u001b[39;00m x: \u001b[39m\"\u001b[39m\u001b[39msympy.integrate(\u001b[39m\u001b[39m\"\u001b[39m\u001b[39m+\u001b[39m\u001b[39mstr\u001b[39m(x\u001b[39m.\u001b[39ma[\u001b[39m0\u001b[39m])\u001b[39m+\u001b[39m\u001b[39m\"\u001b[39m\u001b[39m,\u001b[39m\u001b[39m\"\u001b[39m\u001b[39m+\u001b[39mx\u001b[39m.\u001b[39;49ma[\u001b[39m1\u001b[39;49m]\u001b[39m.\u001b[39msy[\u001b[39m1\u001b[39m:]\u001b[39m+\u001b[39m\u001b[39m\"\u001b[39m\u001b[39m)\u001b[39m\u001b[39m\"\u001b[39m\n\u001b[0;32m    <a href='vscode-notebook-cell:/c%3A/Users/szens/OneDrive/Desktop/DesktopShit/CompSci/AlgoAnalysis/LaTeXPy/test.ipynb#W4sZmlsZQ%3D%3D?line=317'>318</a>\u001b[0m infix(\u001b[39m\"\u001b[39m\u001b[39m\\\\\u001b[39;00m\u001b[39mvert\u001b[39m\u001b[39m\"\u001b[39m, \u001b[39m365\u001b[39m)\u001b[39m.\u001b[39m\u001b[39m__repr__\u001b[39m \u001b[39m=\u001b[39m   \u001b[39mlambda\u001b[39;00m x: w(x,\u001b[39m1\u001b[39m)\u001b[39m+\u001b[39m\u001b[39m\"\u001b[39m\u001b[39m%\u001b[39m\u001b[39m\"\u001b[39m\u001b[39m+\u001b[39mw(x,\u001b[39m0\u001b[39m)\u001b[39m+\u001b[39m\u001b[39m\"\u001b[39m\u001b[39m==0\u001b[39m\u001b[39m\"\u001b[39m     \u001b[39m# divides\u001b[39;00m\n\u001b[0;32m    <a href='vscode-notebook-cell:/c%3A/Users/szens/OneDrive/Desktop/DesktopShit/CompSci/AlgoAnalysis/LaTeXPy/test.ipynb#W4sZmlsZQ%3D%3D?line=318'>319</a>\u001b[0m infix(\u001b[39m\"\u001b[39m\u001b[39m\\\\\u001b[39;00m\u001b[39min\u001b[39m\u001b[39m\"\u001b[39m, \u001b[39m370\u001b[39m)\u001b[39m.\u001b[39m\u001b[39m__repr__\u001b[39m \u001b[39m=\u001b[39m     \u001b[39mlambda\u001b[39;00m x: w(x,\u001b[39m0\u001b[39m)\u001b[39m+\u001b[39m\u001b[39m\"\u001b[39m\u001b[39m in \u001b[39m\u001b[39m\"\u001b[39m\u001b[39m+\u001b[39mw(x,\u001b[39m1\u001b[39m)        \u001b[39m# element of\u001b[39;00m\n",
      "\u001b[1;31mIndexError\u001b[0m: list index out of range"
     ]
    }
   ],
   "source": [
    "# derivative testing (in the works)\n",
    "l(r\"\"\"\n",
    "$\\int {x}dx ?$\n",
    "\"\"\",1)\n",
    "\n",
    "# l(r\"\"\"\n",
    "# $\\frac d{dx}(-\\sin x)?$\n",
    "# \"\"\",1)\n",
    "\n",
    "# l(r\"\"\"\n",
    "# $\\frac d{dx}(3\\cdot{x^5} + 4\\cdot{x^2}+5)?$\n",
    "# \"\"\",1)\n",
    "\n",
    "# l(r\"\"\"\n",
    "# $\\frac d{dx}(x^{\\frac{-4}{5}})?$\n",
    "# \"\"\",1)\n",
    "\n",
    "# l(r\"\"\"\n",
    "# $\\frac d{dx}(\\ln x)?$\n",
    "# \"\"\",1)"
   ]
  }
 ],
 "metadata": {
  "kernelspec": {
   "display_name": "Python 3",
   "language": "python",
   "name": "python3"
  },
  "language_info": {
   "codemirror_mode": {
    "name": "ipython",
    "version": 3
   },
   "file_extension": ".py",
   "mimetype": "text/x-python",
   "name": "python",
   "nbconvert_exporter": "python",
   "pygments_lexer": "ipython3",
   "version": "3.10.11"
  },
  "orig_nbformat": 4,
  "vscode": {
   "interpreter": {
    "hash": "87df5ebd7bf1ec44c0de58e0e91343b2d141c24fc110d57260b0481859b87763"
   }
  }
 },
 "nbformat": 4,
 "nbformat_minor": 2
}
