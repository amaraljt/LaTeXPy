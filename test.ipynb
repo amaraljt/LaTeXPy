{
 "cells": [
  {
   "cell_type": "code",
   "execution_count": 3,
   "metadata": {},
   "outputs": [],
   "source": [
    "import LaTeXPy as l"
   ]
  },
  {
   "cell_type": "code",
   "execution_count": 6,
   "metadata": {},
   "outputs": [
    {
     "data": {
      "text/markdown": [
       "\n",
       "$\n",
       "\\renewcommand{\\And}{\\ \\text{and}\\ }\n",
       "\\newcommand{\\Or}{\\ \\text{or}\\ }\n",
       "\\newcommand{\\Not}{\\text{not}\\ }\n",
       "\\newcommand{\\m}{\\mathbf}\n",
       "\\newcommand{\\bb}{\\mathbb}\n",
       "\\newcommand{\\cc}{\\mathcal}\n",
       "\\newcommand{\\s}{\\text}\n",
       "\\newcommand{\\bsl}{\\backslash}\n",
       "\\newcommand{\\sm}{{\\sim}}\n",
       "\\newcommand{\\tup}[1]{(#1)}\n",
       "\\newcommand{\\Mod}{\\text{Mod}}\n",
       "\\newcommand{\\Con}{\\text{Con}}\n",
       "\\newcommand{\\Pre}{\\text{Pre}}\n",
       "5+5$\n"
      ],
      "text/plain": [
       "<IPython.core.display.Markdown object>"
      ]
     },
     "metadata": {},
     "output_type": "display_data"
    }
   ],
   "source": [
    "l.l(r\"\"\"\n",
    "$5+5$\n",
    "\"\"\")"
   ]
  }
 ],
 "metadata": {
  "kernelspec": {
   "display_name": "Python 3",
   "language": "python",
   "name": "python3"
  },
  "language_info": {
   "codemirror_mode": {
    "name": "ipython",
    "version": 3
   },
   "file_extension": ".py",
   "mimetype": "text/x-python",
   "name": "python",
   "nbconvert_exporter": "python",
   "pygments_lexer": "ipython3",
   "version": "3.10.10"
  },
  "orig_nbformat": 4,
  "vscode": {
   "interpreter": {
    "hash": "4b4daed55adedb240cc5cff43ab391da24e32ecd029651c5af5875071d95a39f"
   }
  }
 },
 "nbformat": 4,
 "nbformat_minor": 2
}
