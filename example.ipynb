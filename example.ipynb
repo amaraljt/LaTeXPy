{
  "nbformat": 4,
  "nbformat_minor": 0,
  "metadata": {
    "colab": {
      "provenance": [],
      "authorship_tag": "ABX9TyMb1Odosfo3YNTWK3TVOVg7"
    },
    "kernelspec": {
      "name": "python3",
      "display_name": "Python 3"
    },
    "language_info": {
      "name": "python"
    }
  },
  "cells": [
    {
      "cell_type": "code",
      "execution_count": 1,
      "metadata": {
        "id": "OVzRgPZocf6L",
        "colab": {
          "base_uri": "https://localhost:8080/",
          "height": 598
        },
        "outputId": "943ef9c1-b8ea-4879-8f0b-8caab1d82303"
      },
      "outputs": [
        {
          "output_type": "stream",
          "name": "stdout",
          "text": [
            "Cloning into 'LaTeXPy'...\n",
            "remote: Enumerating objects: 242, done.\u001b[K\n",
            "remote: Counting objects: 100% (117/117), done.\u001b[K\n",
            "remote: Compressing objects: 100% (102/102), done.\u001b[K\n",
            "remote: Total 242 (delta 65), reused 35 (delta 13), pack-reused 125\u001b[K\n",
            "Receiving objects: 100% (242/242), 1.37 MiB | 16.27 MiB/s, done.\n",
            "Resolving deltas: 100% (127/127), done.\n",
            "IPython console for SymPy 1.11.1 (Python 3.9.16-64-bit) (ground types: python)\n",
            "\n",
            "These commands were executed:\n",
            ">>> from sympy import *\n",
            ">>> x, y, z, t = symbols('x y z t')\n",
            ">>> k, m, n = symbols('k m n', integer=True)\n",
            ">>> f, g, h = symbols('f g h', cls=Function)\n",
            ">>> init_printing()\n",
            "\n",
            "Documentation can be found at https://docs.sympy.org/1.11.1/\n",
            "\n"
          ]
        },
        {
          "output_type": "display_data",
          "data": {
            "text/plain": [
              "<IPython.core.display.Markdown object>"
            ],
            "text/markdown": "$\n\\renewcommand{\\And}{\\ \\text{and}\\ }\n\\renewcommand{\\Or}{\\ \\text{or}\\ }\n\\renewcommand{\\Not}{\\text{not}\\ }\n\\renewcommand{\\m}{\\mathbf}\n\\renewcommand{\\bb}{\\mathbb}\n\\renewcommand{\\cc}{\\mathcal}\n\\renewcommand{\\s}{\\text}\n\\renewcommand{\\bsl}{\\backslash}\n\\renewcommand{\\sm}{{\\sim}}\n\\renewcommand{\\tup}[1]{(#1)}\n\\renewcommand{\\Mod}{\\text{Mod}}\n\\renewcommand{\\Con}{\\text{Con}}\n\\renewcommand{\\Pre}{\\text{Pre}}\n$"
          },
          "metadata": {}
        }
      ],
      "source": [
        "!rm -rf LaTeXPy #remove any previous version\n",
        "!git clone https://github.com/amaraljt/LaTeXPy.git\n",
        "execfile(\"/content/LaTeXPy/LaTeXPy.py\")"
      ]
    },
    {
      "cell_type": "code",
      "source": [
        "# Adding a '?' before the last '$' will attempt to solve the problem\n",
        "# Adding a 1 argument at the end shows the parser in action\n",
        "l(r\"\"\"\n",
        "$\\arcsin(1)?$\n",
        "\"\"\", 1)"
      ],
      "metadata": {
        "colab": {
          "base_uri": "https://localhost:8080/",
          "height": 344
        },
        "id": "ji06jJYnci2p",
        "outputId": "7664a290-419a-49c9-b7e7-4988e9527d8c"
      },
      "execution_count": 16,
      "outputs": [
        {
          "output_type": "stream",
          "name": "stdout",
          "text": [
            "Abstract syntax tree: (\"?\",(\"\\arcsin\",\"1\"))\n",
            "Expression: sympy.asin(1)?\n",
            "Value: pi/2\n"
          ]
        },
        {
          "output_type": "display_data",
          "data": {
            "text/plain": [
              "<IPython.core.display.Markdown object>"
            ],
            "text/markdown": "\n$\\color{green}\n\\renewcommand{\\And}{\\ \\text{and}\\ }\n\\renewcommand{\\Or}{\\ \\text{or}\\ }\n\\renewcommand{\\Not}{\\text{not}\\ }\n\\renewcommand{\\m}{\\mathbf}\n\\renewcommand{\\bb}{\\mathbb}\n\\renewcommand{\\cc}{\\mathcal}\n\\renewcommand{\\s}{\\text}\n\\renewcommand{\\bsl}{\\backslash}\n\\renewcommand{\\sm}{{\\sim}}\n\\renewcommand{\\tup}[1]{(#1)}\n\\renewcommand{\\Mod}{\\text{Mod}}\n\\renewcommand{\\Con}{\\text{Con}}\n\\renewcommand{\\Pre}{\\text{Pre}}\n\\arcsin(1)\\color{blue} = pi/2$\n"
          },
          "metadata": {}
        }
      ]
    },
    {
      "cell_type": "code",
      "source": [
        "l(r\"\"\"\n",
        "$\\cos(0)?$\n",
        "\"\"\",1)"
      ],
      "metadata": {
        "colab": {
          "base_uri": "https://localhost:8080/",
          "height": 344
        },
        "id": "qj2DoGuovTXk",
        "outputId": "f6b279f1-3af0-4987-c829-0672b03e5412"
      },
      "execution_count": 17,
      "outputs": [
        {
          "output_type": "stream",
          "name": "stdout",
          "text": [
            "Abstract syntax tree: (\"?\",(\"\\cos\",\"0\"))\n",
            "Expression: sympy.cos(0)?\n",
            "Value: 1\n"
          ]
        },
        {
          "output_type": "display_data",
          "data": {
            "text/plain": [
              "<IPython.core.display.Markdown object>"
            ],
            "text/markdown": "\n$\\color{green}\n\\renewcommand{\\And}{\\ \\text{and}\\ }\n\\renewcommand{\\Or}{\\ \\text{or}\\ }\n\\renewcommand{\\Not}{\\text{not}\\ }\n\\renewcommand{\\m}{\\mathbf}\n\\renewcommand{\\bb}{\\mathbb}\n\\renewcommand{\\cc}{\\mathcal}\n\\renewcommand{\\s}{\\text}\n\\renewcommand{\\bsl}{\\backslash}\n\\renewcommand{\\sm}{{\\sim}}\n\\renewcommand{\\tup}[1]{(#1)}\n\\renewcommand{\\Mod}{\\text{Mod}}\n\\renewcommand{\\Con}{\\text{Con}}\n\\renewcommand{\\Pre}{\\text{Pre}}\n\\cos(0)\\color{blue} = 1$\n"
          },
          "metadata": {}
        }
      ]
    },
    {
      "cell_type": "code",
      "source": [
        "l(r\"\"\"\n",
        "$\\ln{1}?$\n",
        "\"\"\",1)"
      ],
      "metadata": {
        "colab": {
          "base_uri": "https://localhost:8080/",
          "height": 344
        },
        "id": "GCyyVZLvNk6c",
        "outputId": "ac4456de-fad6-4a79-fa5b-7bd17de436f1"
      },
      "execution_count": 24,
      "outputs": [
        {
          "output_type": "stream",
          "name": "stdout",
          "text": [
            "Abstract syntax tree: (\"?\",(\"\\ln\",\"1\"))\n",
            "Expression: math.log(1)?\n",
            "Value: 0.0\n"
          ]
        },
        {
          "output_type": "display_data",
          "data": {
            "text/plain": [
              "<IPython.core.display.Markdown object>"
            ],
            "text/markdown": "\n$\\color{green}\n\\renewcommand{\\And}{\\ \\text{and}\\ }\n\\renewcommand{\\Or}{\\ \\text{or}\\ }\n\\renewcommand{\\Not}{\\text{not}\\ }\n\\renewcommand{\\m}{\\mathbf}\n\\renewcommand{\\bb}{\\mathbb}\n\\renewcommand{\\cc}{\\mathcal}\n\\renewcommand{\\s}{\\text}\n\\renewcommand{\\bsl}{\\backslash}\n\\renewcommand{\\sm}{{\\sim}}\n\\renewcommand{\\tup}[1]{(#1)}\n\\renewcommand{\\Mod}{\\text{Mod}}\n\\renewcommand{\\Con}{\\text{Con}}\n\\renewcommand{\\Pre}{\\text{Pre}}\n\\ln{1}\\color{blue} = 0.0$\n"
          },
          "metadata": {}
        }
      ]
    }
  ]
}